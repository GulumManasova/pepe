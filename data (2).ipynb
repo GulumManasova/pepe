{
 "cells": [
  {
   "cell_type": "markdown",
   "id": "5d6300bb",
   "metadata": {},
   "source": [
    "# #1. Handling Missing Data Questions:"
   ]
  },
  {
   "cell_type": "markdown",
   "id": "ab6d66ae",
   "metadata": {},
   "source": [
    "How do you identify and handle missing values in a Pandas DataFrame?\n",
    "\n"
   ]
  },
  {
   "cell_type": "markdown",
   "id": "f91b3e3d",
   "metadata": {},
   "source": [
    "Checking for missing values using isnull() and notnull()\n",
    "In order to check missing values in Pandas DataFrame, we use a function isnull() and notnull(). Both function help in checking whether a value is NaN or not. These function can also be used in Pandas Series in order to find null values in a series.\n",
    "\n",
    "Handling Missing Values:\n",
    "\n",
    "Dropping Missing Values:\n",
    "Use the dropna() method to remove rows or columns with missing values.\n",
    "\n",
    "Filling Missing Values:\n",
    "Use the fillna() method to fill missing values with a specific value or a calculated value.\n",
    "\n",
    "Interpolation:\n",
    "Use methods like interpolate() to fill missing values based on interpolation methods.\n",
    "\n",
    "Handling Categorical Data:\n",
    "For categorical data, consider using a placeholder category or the mode for filling missing values.\n",
    "\n",
    "Imputation:\n",
    "Use advanced imputation techniques, like those provided by the SimpleImputer class in scikit-learn."
   ]
  },
  {
   "cell_type": "code",
   "execution_count": null,
   "id": "07752113",
   "metadata": {},
   "outputs": [],
   "source": [
    "df.dropna()                # drops rows with any missing values\n",
    "df.dropna(axis=1)          # drops columns with any missing values\n",
    "df.dropna(thresh=n)        # drops rows with less than n non-null values\n",
    "\n",
    "df.fillna(value)            # fills all missing values with a specific value\n",
    "df.fillna(df.mean())        # fills missing values with the mean of each column\n",
    "\n",
    "df.interpolate()            # fills missing values using linear interpolation\n",
    "\n",
    "from sklearn.impute import SimpleImputer\n",
    "imputer = SimpleImputer(strategy='mean')\n",
    "df_filled = pd.DataFrame(imputer.fit_transform(df), columns=df.columns)\n",
    "\n",
    "df['categorical_column'].fillna('Unknown', inplace=True)\n",
    "\n",
    "\n"
   ]
  },
  {
   "cell_type": "markdown",
   "id": "67a1516e",
   "metadata": {},
   "source": [
    "What is imputation, and why might it be useful in dealing with missing data?\n",
    "\n",
    "Imputation is the process of replacing missing or incomplete data with substituted values. The goal of imputation is to provide a complete dataset for analysis by estimating or predicting missing values based on the observed data.\n",
    "\n",
    "Imputation is valuable in addressing missing data for several reasons:\n",
    "\n",
    "Preservation of Data Integrity:\n",
    "\n",
    "Imputation allows for the retention of overall dataset structure by filling in missing values, preventing loss of information.\n",
    "\n",
    "Maintenance of Statistical Power:\n",
    "By imputing missing values, datasets remain more robust for statistical analysis, ensuring that all available information contributes to meaningful results.\n",
    "\n",
    "Avoidance of Bias in Analysis:\n",
    "Imputation helps prevent bias in analyses that could occur if incomplete records are excluded, ensuring a more representative and unbiased representation of the data.\n",
    "\n",
    "Enhancement of Model Performance:\n",
    "In machine learning scenarios, imputation contributes to better model training by providing a more complete dataset, potentially leading to improved predictive performance.\n",
    "\n",
    "Preservation of Data Patterns:\n",
    "Imputation methods, such as interpolation, help maintain patterns in the data, ensuring that imputed values align with the observed trends and relationships.\n",
    "\n",
    "Meeting Analysis Assumptions:\n",
    "Imputation assists in meeting the assumptions of various statistical analyses, allowing for a broader application of analytical techniques that assume complete datasets.\n",
    "\n",
    "Dealing with Real-world Scenarios:\n",
    "In practical situations where missing data is common, imputation provides a practical solution for making the most of the available information, allowing for a more comprehensive analysis."
   ]
  },
  {
   "cell_type": "code",
   "execution_count": null,
   "id": "899d3cf2",
   "metadata": {},
   "outputs": [],
   "source": [
    "import pandas as pd\n",
    "import numpy as np\n",
    "\n",
    "# Creating a sample DataFrame with missing values\n",
    "data = {\n",
    "    'A': [1, 2, np.nan, 4, 5],\n",
    "    'B': [10, np.nan, 30, 40, 50],\n",
    "    'C': [100, 200, 300, np.nan, 500]\n",
    "}\n",
    "\n",
    "df = pd.DataFrame(data)\n",
    "\n",
    "# Display the original DataFrame\n",
    "print(\"Original DataFrame:\")\n",
    "print(df)\n",
    "\n",
    "# Impute missing values with the mean of each column\n",
    "df_imputed = df.fillna(df.mean())\n",
    "\n",
    "# Display the DataFrame after imputation\n",
    "print(\"\\nDataFrame after Mean Imputation:\")\n",
    "print(df_imputed)\n"
   ]
  },
  {
   "cell_type": "markdown",
   "id": "b9e246a7",
   "metadata": {},
   "source": [
    "# # 2. Data Transformation Questions:"
   ]
  },
  {
   "cell_type": "markdown",
   "id": "a7fe6bee",
   "metadata": {},
   "source": [
    "How can you encode categorical variables in a Pandas DataFrame?\n",
    "\n",
    "Encoding categorical variables involves converting categorical data (i.e., data that represents categories or labels) into a numerical format that machine learning algorithms can understand. Categorical variables can take on a limited, fixed number of possible values, such as colors, types of fruit, or levels of education. There are methods of encoding:\n",
    "\n",
    "Ordinal encoding:\n",
    "Ordinal encoding is similar to label encoding but allows for custom mapping of categories to specific integers based on a predefined order.\n",
    "Unlike label encoding, where the mapping is based on the order of appearance, ordinal encoding allows for explicit control over the mapping.\n",
    "Ordinal encoding is suitable for categorical variables with a natural order or hierarchy, where the numerical labels reflect the inherent order of the categories.\n",
    "Example: If the original categorical column represents levels of education ('low', 'medium', 'high'), ordinal encoding can map them to integers 1, 2, and 3, respectively, based on their order of importance or level.\n",
    "\n"
   ]
  },
  {
   "cell_type": "code",
   "execution_count": 1,
   "id": "649c1338",
   "metadata": {},
   "outputs": [
    {
     "name": "stdout",
     "output_type": "stream",
     "text": [
      "Original DataFrame:\n",
      "  category  encoded_category\n",
      "0      low                 1\n",
      "1   medium                 2\n",
      "2     high                 3\n",
      "3   medium                 2\n",
      "4      low                 1\n"
     ]
    }
   ],
   "source": [
    "import pandas as pd\n",
    "data_ordinal = {'category': ['low', 'medium', 'high', 'medium', 'low']}\n",
    "df_ord = pd.DataFrame(data_ordinal)\n",
    "\n",
    "# Define the mapping of categories to integers\n",
    "mapping = {'low': 1, 'medium': 2, 'high': 3}\n",
    "\n",
    "df_ord['encoded_category'] = df_ord['category'].map(mapping)\n",
    "\n",
    "print(\"Original DataFrame:\")\n",
    "print(df_ord)"
   ]
  },
  {
   "cell_type": "markdown",
   "id": "1bc1f938",
   "metadata": {},
   "source": [
    "Pandas factorize() The pandas factorize() function is used to encode categorical data. It returns a tuple containing two elements:\n",
    "An array of integers representing the numerical labels of the categorical data.\n",
    "An Index object that contains the unique categories in the data, along with their corresponding integer codes. Example: the original categorical column 'category' with values ['A', 'B', 'C', 'A', 'C'] is encoded using the factorize() function. The encoded labels are assigned to the labels array, while the unique categories are stored in the unique_categories Index array. The encoded labels are then added as a new column 'encoded_category' to the DataFrame df_fact. Finally, both the original DataFrame and the encoded labels along with their corresponding unique categories are printing for reference."
   ]
  },
  {
   "cell_type": "code",
   "execution_count": 2,
   "id": "97de07f9",
   "metadata": {},
   "outputs": [
    {
     "name": "stdout",
     "output_type": "stream",
     "text": [
      "Original DataFrame:\n",
      "  category  encoded_category\n",
      "0        A                 0\n",
      "1        B                 1\n",
      "2        C                 2\n",
      "3        A                 0\n",
      "4        C                 2\n",
      "\n",
      "Encoded labels:\n",
      "[0 1 2 0 2]\n",
      "\n",
      "Unique categories:\n",
      "Index(['A', 'B', 'C'], dtype='object')\n"
     ]
    }
   ],
   "source": [
    "import pandas as pd\n",
    "data_fact = {'category': ['A', 'B', 'C', 'A', 'C']}\n",
    "df_fact = pd.DataFrame(data_fact)\n",
    "\n",
    "# Apply to factorize to the categorical column\n",
    "labels, unique_categories = pd.factorize(df_fact['category'])\n",
    "\n",
    "# Add the encoded labels to the DataFrame\n",
    "df_fact['encoded_category'] = labels\n",
    "\n",
    "print(\"Original DataFrame:\")\n",
    "print(df_fact)\n",
    "print(\"\\nEncoded labels:\")\n",
    "print(labels)\n",
    "print(\"\\nUnique categories:\")\n",
    "print(unique_categories)"
   ]
  },
  {
   "cell_type": "markdown",
   "id": "5e471196",
   "metadata": {},
   "source": [
    "What is one-hot encoding, and when would you use it in data preprocessing?\n",
    "\n",
    "One-hot encoding is a technique used in data preprocessing to convert categorical data, especially nominal categorical variables, into a binary matrix format. In this representation, each category is represented as a binary vector, with one element of the vector set to 1 (indicating the presence of the category) and the rest set to 0.\n",
    "\n"
   ]
  },
  {
   "cell_type": "code",
   "execution_count": 3,
   "id": "8e76bade",
   "metadata": {},
   "outputs": [
    {
     "name": "stdout",
     "output_type": "stream",
     "text": [
      "Original DataFrame:\n",
      "   Color\n",
      "0    Red\n",
      "1  Green\n",
      "2   Blue\n",
      "3    Red\n",
      "\n",
      "One-Hot Encoded DataFrame:\n",
      "   Color_Blue  Color_Green  Color_Red\n",
      "0       False        False       True\n",
      "1       False         True      False\n",
      "2        True        False      False\n",
      "3       False        False       True\n"
     ]
    }
   ],
   "source": [
    "import pandas as pd\n",
    "\n",
    "# Create a DataFrame with a categorical column 'Color'\n",
    "data = {'Color': ['Red', 'Green', 'Blue', 'Red']}\n",
    "df = pd.DataFrame(data)\n",
    "\n",
    "# Perform one-hot encoding using get_dummies\n",
    "df_encoded = pd.get_dummies(df, columns=['Color'], prefix='Color')\n",
    "\n",
    "# Display the original and encoded DataFrames\n",
    "print(\"Original DataFrame:\")\n",
    "print(df)\n",
    "print(\"\\nOne-Hot Encoded DataFrame:\")\n",
    "print(df_encoded)\n"
   ]
  },
  {
   "cell_type": "markdown",
   "id": "7cfe7576",
   "metadata": {},
   "source": [
    "When to use one-hot encoding:\n",
    "\n",
    "Nominal Categorical Variables:\n",
    "One-hot encoding is particularly suitable for nominal categorical variables, where there is no inherent order or ranking among categories. Examples include color, country, or product type.\n",
    "\n",
    "Machine Learning Algorithms:\n",
    "Many machine learning algorithms, especially those based on distance metrics or linear algebra operations, work better with numerical data. One-hot encoding allows you to represent categorical variables in a format that is compatible with these algorithms.\n",
    "\n",
    "Avoiding Implied Order:\n",
    "Using one-hot encoding helps avoid introducing an implied order among categories. If you were to use label encoding (assigning integers to categories), the model might interpret the encoded values as having some ordinal relationship, which may not be accurate for nominal variables.\n",
    "\n",
    "Handling Multiple Categories:\n",
    "When dealing with categorical variables that have more than two categories, one-hot encoding provides a clear and concise representation without assuming any ordinal relationship."
   ]
  },
  {
   "cell_type": "markdown",
   "id": "c9d5f23e",
   "metadata": {},
   "source": [
    "# #3. Removing Duplicates Questions:"
   ]
  },
  {
   "cell_type": "markdown",
   "id": "55999a4b",
   "metadata": {},
   "source": [
    "How do you identify and remove duplicate rows from a DataFrame?\n",
    "\n",
    "Identifying Duplicate Rows:\n",
    "duplicated() Method:\n",
    "The duplicated() method identifies whether each row is a duplicate of a previous row. It returns a boolean Series where True indicates a duplicated row.\n",
    "\n",
    "Removing Duplicate Rows:\n",
    "After identifying duplicate rows, you can use the drop_duplicates() method to remove them."
   ]
  },
  {
   "cell_type": "code",
   "execution_count": 4,
   "id": "f8b76bab",
   "metadata": {},
   "outputs": [
    {
     "name": "stdout",
     "output_type": "stream",
     "text": [
      "   A  B\n",
      "2  1  x\n",
      "4  2  y\n",
      "5  1  x\n"
     ]
    }
   ],
   "source": [
    "import pandas as pd\n",
    "\n",
    "# Create a DataFrame with duplicate rows\n",
    "data = {'A': [1, 2, 1, 3, 2, 1],\n",
    "        'B': ['x', 'y', 'x', 'z', 'y', 'x']}\n",
    "df = pd.DataFrame(data)\n",
    "\n",
    "# Identify duplicate rows\n",
    "duplicates = df.duplicated()\n",
    "\n",
    "# Print the DataFrame with duplicate rows highlighted\n",
    "print(df[duplicates])\n"
   ]
  },
  {
   "cell_type": "code",
   "execution_count": 6,
   "id": "f9cbb4f1",
   "metadata": {},
   "outputs": [
    {
     "name": "stdout",
     "output_type": "stream",
     "text": [
      "   A  B\n",
      "3  3  z\n"
     ]
    }
   ],
   "source": [
    "import pandas as pd\n",
    "# Remove all duplicate rows, keeping the first occurrence\n",
    "df_no_duplicates = df.drop_duplicates()\n",
    "\n",
    "# Remove all duplicate rows, keeping the last occurrence\n",
    "df_no_duplicates_last = df.drop_duplicates(keep='last')\n",
    "\n",
    "# Remove all duplicate rows, keeping none (removing all occurrences)\n",
    "df_no_duplicates_none = df.drop_duplicates(keep=False)\n",
    "\n",
    "print(df_no_duplicates_none)"
   ]
  },
  {
   "cell_type": "markdown",
   "id": "8212231e",
   "metadata": {},
   "source": [
    " Can you explain the difference between the duplicated() and drop_duplicates() methods in Pandas?\n",
    " \n",
    " \n",
    "  The `duplicated()` function is employed to pinpoint duplicate rows within a DataFrame by providing a boolean Series indicating which rows are duplicates. On the other hand, the `drop_duplicates()` function is used to create a new DataFrame where duplicate rows are eliminated, offering flexibility in keeping the first occurrence, the last occurrence, or none of the duplicates based on specified criteria. In data preprocessing workflows, these two functions are often used in tandem to efficiently identify and handle duplicate data in a DataFrame.\n",
    "  \n",
    "\n",
    "**duplicated():**\n",
    "Identifies duplicate rows in a DataFrame.\n",
    "Returns a boolean Series marking each row as duplicate (True) or not (False).\n",
    "Helps in detecting duplicate rows without modifying the original DataFrame.\n",
    "\n",
    "**drop_duplicates():**\n",
    "Removes duplicate rows from a DataFrame.\n",
    "Returns a new DataFrame without duplicates, keeping the first occurrence by default. \n",
    "Used to clean the DataFrame by eliminating redundant entries.\n",
    "Customizable with parameters like subset or keep to tailor the handling of duplicates."
   ]
  },
  {
   "cell_type": "markdown",
   "id": "7a5f67d4",
   "metadata": {},
   "source": [
    "# #4. Data Scaling and Normalization Questions:"
   ]
  },
  {
   "cell_type": "markdown",
   "id": "77d8d076",
   "metadata": {},
   "source": [
    "Discuss the importance of feature scaling in machine learning.\n",
    "\n",
    "Feature scaling in machine learning is essential for ensuring that all features contribute equally to model training. It involves normalizing or standardizing the numeric features, preventing those with larger scales from dominating the learning process. Proper scaling improves convergence speed, model performance, and the effectiveness of distance-based algorithms. It is crucial for interpreting coefficients, handling outliers, and supporting various machine learning algorithms such as k-nearest neighbors and neural networks. Overall, feature scaling enhances the stability, efficiency, and interpretability of machine learning models"
   ]
  },
  {
   "cell_type": "markdown",
   "id": "881b4189",
   "metadata": {},
   "source": [
    "Explain the difference between min-max scaling and z-score normalization.\n",
    "\n",
    "Min-max Scaling:\n",
    "\n",
    "Min-max scaling is a feature scaling technique used to rescale the features to a fixed range, typically between 0 and 1.\n",
    "It works by subtracting the minimum value of each feature from the original value and then dividing by the difference between the maximum and minimum values.\n",
    "Min-max scaling ensures that all feature values lie within the specified range, making it useful for algorithms that require input features to have a similar scale\n",
    "\n",
    "\n",
    "Z-score Normalization:\n",
    "\n",
    "Z-score normalization, also known as standardization, is a feature scaling technique used to transform the features to have a mean of 0 and a standard deviation of 1.\n",
    "It works by subtracting the mean of each feature from the original value and then dividing by the standard deviation.\n",
    "Z-score normalization centers the data around the mean and scales it based on the variability (standard deviation) of the data.\n",
    "It results in feature values that are centered around 0 and have a similar scale, making it suitable for algorithms that assume a Gaussian distribution of the features."
   ]
  },
  {
   "attachments": {
    "image.png": {
     "image/png": "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"
    }
   },
   "cell_type": "markdown",
   "id": "4b6b4042",
   "metadata": {},
   "source": [
    "![image.png](attachment:image.png)"
   ]
  },
  {
   "cell_type": "markdown",
   "id": "291997e1",
   "metadata": {},
   "source": [
    "# #5.Handling Outliers Questions:"
   ]
  },
  {
   "cell_type": "markdown",
   "id": "0f0e4087",
   "metadata": {},
   "source": [
    "What are outliers, and why might they impact machine learning models?\n",
    "\n",
    "**Outliers** are data points significantly different from the majority in a dataset.\n",
    "They can impact machine learning models by skewing predictions, violating statistical assumptions, and affecting algorithms sensitive to distances or patterns. Handling outliers is essential for maintaining model robustness, accuracy, and generalizability. Strategies include removal, transformation, or using robust models designed to resist the influence of extreme values."
   ]
  },
  {
   "cell_type": "markdown",
   "id": "26ee4662",
   "metadata": {},
   "source": [
    "Describe different methods for detecting outliers in a dataset in Python.\n",
    "\n",
    "Outliers can be identified using statistical methods such as the z-score and the interquartile range (IQR). The z-score measures how many standard deviations a data point is away from the mean, while the IQR measures the spread of the middle 50% of the data."
   ]
  },

   },
   "cell_type": "markdown",
   "id": "7f6ec91d",
   "metadata": {},
   "source": [
    "![image.png](attachment:image.png) ![image-2.png](attachment:image-2.png)\n"
   ]
  },
  {
   "cell_type": "markdown",
   "id": "ced00aad",
   "metadata": {},
   "source": [
    "How can you handle outliers in a continuous numerical variable in Python?\n",
    "\n",
    "Handling outliers in a continuous numerical variable involves various strategies to mitigate their impact on data analysis or machine learning models.\n",
    "Use data visualization techniques to inspect the data's distribution and verify the presence of outliers.\n",
    "Use a statistical method to calculate the outlier data points.\n",
    "Apply a statistical method to drop or transform the outliers. "
   ]
  }
 ],
 "metadata": {
  "kernelspec": {
   "display_name": "Python 3 (ipykernel)",
   "language": "python",
   "name": "python3"
  },
  "language_info": {
   "codemirror_mode": {
    "name": "ipython",
    "version": 3
   },
   "file_extension": ".py",
   "mimetype": "text/x-python",
   "name": "python",
   "nbconvert_exporter": "python",
   "pygments_lexer": "ipython3",
   "version": "3.11.5"
  }
 },
 "nbformat": 4,
 "nbformat_minor": 5
}
